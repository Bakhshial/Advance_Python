{
 "cells": [
  {
   "cell_type": "markdown",
   "id": "2bc0972d",
   "metadata": {},
   "source": [
    "# Python Numpy Model"
   ]
  },
  {
   "cell_type": "markdown",
   "id": "3872694a",
   "metadata": {},
   "source": [
    "# Introduction of Numpy"
   ]
  },
  {
   "cell_type": "code",
   "execution_count": 1,
   "id": "6e00d309",
   "metadata": {},
   "outputs": [],
   "source": [
    "import numpy as np"
   ]
  },
  {
   "cell_type": "code",
   "execution_count": 2,
   "id": "77b7b46e",
   "metadata": {},
   "outputs": [
    {
     "name": "stdout",
     "output_type": "stream",
     "text": [
      "[1 2 3 4 5]\n"
     ]
    }
   ],
   "source": [
    "arr=np.array([1,2,3,4,5])\n",
    "print(arr)"
   ]
  },
  {
   "cell_type": "code",
   "execution_count": 3,
   "id": "55809e7b",
   "metadata": {},
   "outputs": [],
   "source": [
    "import time\n",
    "import sys"
   ]
  },
  {
   "cell_type": "code",
   "execution_count": 4,
   "id": "95fec3cc",
   "metadata": {},
   "outputs": [
    {
     "name": "stdout",
     "output_type": "stream",
     "text": [
      "28000\n",
      "4000\n"
     ]
    }
   ],
   "source": [
    "l=range(1000)\n",
    "print(sys.getsizeof(5)*len(l))\n",
    "\n",
    "array=np.arange(1000)\n",
    "print(array.size*array.itemsize)"
   ]
  },
  {
   "cell_type": "code",
   "execution_count": 5,
   "id": "205c73e5",
   "metadata": {},
   "outputs": [
    {
     "name": "stdout",
     "output_type": "stream",
     "text": [
      "python list take time:  1543.9975261688232\n",
      "numpy took 15.62952995300293\n"
     ]
    }
   ],
   "source": [
    "Size=10000000\n",
    "list1=range(Size)\n",
    "list2=range(Size)\n",
    "\n",
    "arr1=np.arange(Size)\n",
    "arr2=np.arange(Size)\n",
    "\n",
    "start=time.time()\n",
    "result=[(x+y) for x,y in zip(list1,list2)]\n",
    "print(\"python list take time: \",(time.time()-start)*1000)\n",
    "\n",
    "start=time.time()\n",
    "r=arr1+arr2\n",
    "print(\"numpy took\",(time.time()-start)*1000)\n"
   ]
  },
  {
   "cell_type": "markdown",
   "id": "4b8e36c1",
   "metadata": {},
   "source": [
    "# Numpy  Basic of array operation"
   ]
  },
  {
   "cell_type": "code",
   "execution_count": 6,
   "id": "f34009e0",
   "metadata": {},
   "outputs": [
    {
     "name": "stdout",
     "output_type": "stream",
     "text": [
      "[[12 13]\n",
      " [14 15]]\n",
      "2\n",
      "<class 'numpy.ndarray'>\n",
      "[[ 1  2  3]\n",
      " [ 4  5  6]\n",
      " [ 7  8  9]\n",
      " [10 11 12]]\n",
      "2\n",
      "size of item:  4\n"
     ]
    },
    {
     "data": {
      "text/plain": [
       "(4, 3)"
      ]
     },
     "execution_count": 6,
     "metadata": {},
     "output_type": "execute_result"
    }
   ],
   "source": [
    "a=np.array([[12,13],[14,15]])\n",
    "print(a)\n",
    "\n",
    "print(a.ndim)\n",
    "\n",
    "print(type(a))\n",
    "\n",
    "a2=np.array([[1,2,3],[4,5,6],[7,8,9],[10,11,12,]])\n",
    "print(a2)\n",
    "\n",
    "print(a2.ndim)\n",
    "\n",
    "print(\"size of item: \",a2.itemsize)\n",
    "\n",
    "a2.dtype\n",
    "a2.shape"
   ]
  },
  {
   "cell_type": "code",
   "execution_count": 7,
   "id": "8f6d15cb",
   "metadata": {},
   "outputs": [
    {
     "name": "stdout",
     "output_type": "stream",
     "text": [
      "[[1. 2. 3.]\n",
      " [4. 5. 6.]]\n"
     ]
    },
    {
     "data": {
      "text/plain": [
       "array([[1.+0.j, 2.+0.j, 3.+0.j],\n",
       "       [4.+0.j, 5.+0.j, 6.+0.j]])"
      ]
     },
     "execution_count": 7,
     "metadata": {},
     "output_type": "execute_result"
    }
   ],
   "source": [
    "arr=np.array([[1,2,3],[4,5,6]],dtype=np.float64)\n",
    "print(arr)\n",
    "\n",
    "arr2=np.array([[1,2,3],[4,5,6]],dtype=complex)\n",
    "arr2"
   ]
  },
  {
   "cell_type": "code",
   "execution_count": 8,
   "id": "af5eecf6",
   "metadata": {},
   "outputs": [
    {
     "name": "stdout",
     "output_type": "stream",
     "text": [
      "Zero Matrix\n",
      " [[0. 0. 0. 0.]\n",
      " [0. 0. 0. 0.]\n",
      " [0. 0. 0. 0.]]\n",
      "Matrix all element is one \n",
      " [[1. 1. 1. 1.]\n",
      " [1. 1. 1. 1.]\n",
      " [1. 1. 1. 1.]]\n"
     ]
    }
   ],
   "source": [
    "print(\"Zero Matrix\\n\",np.zeros((3,4)))\n",
    "print(\"Matrix all element is one \\n\",np.ones((3,4)))\n"
   ]
  },
  {
   "cell_type": "code",
   "execution_count": 9,
   "id": "4cfc4e93",
   "metadata": {},
   "outputs": [
    {
     "name": "stdout",
     "output_type": "stream",
     "text": [
      "arange :\n",
      "\n",
      " [1 3 5]\n",
      "\n",
      "Lin space function: \n",
      "\n",
      " [1.    1.625 2.25  2.875 3.5   4.125 4.75  5.375 6.   ]\n",
      "\n",
      "reshape the array:\n",
      "\n",
      " [[1 2 3 4]\n",
      " [5 6 9 8]\n",
      " [7 3 5 8]]\n",
      "\n",
      "convert into one row:\n",
      "\n",
      " [1 2 3 4 5 6 9 8 7 3 5 8]\n"
     ]
    }
   ],
   "source": [
    "# np.arange(star,stop,increment)\n",
    "a=np.arange(1,6,2)\n",
    "print(\"arange :\\n\\n\",a)\n",
    "\n",
    "b=np.linspace(1,6,9)\n",
    "print(\"\\nLin space function: \\n\\n\",b)\n",
    "\n",
    "arr=np.array([[1,2,3],[4,5,6],[9,8,7],[3,5,8]])\n",
    "arr.shape\n",
    "\n",
    "print(\"\\nreshape the array:\\n\\n\", arr.reshape(3,4))\n",
    "arr.shape\n",
    "\n",
    "d=arr.ravel()\n",
    "print(\"\\nconvert into one row:\\n\\n\",d)"
   ]
  },
  {
   "cell_type": "markdown",
   "id": "ce5c5766",
   "metadata": {},
   "source": [
    "# Math"
   ]
  },
  {
   "cell_type": "code",
   "execution_count": 10,
   "id": "c394f8a7",
   "metadata": {},
   "outputs": [
    {
     "name": "stdout",
     "output_type": "stream",
     "text": [
      "manimume value:  1\n",
      "position of minimum value: 0\n",
      "maximume value:  9\n",
      "position of max value: 6\n",
      "sum all the element:  61\n",
      "sum the column:  [17 20 24]\n",
      "sum the row:  [ 6 15 24 16]\n",
      "squar root of each element: \n",
      " [[1.         1.41421356 1.73205081]\n",
      " [2.         2.23606798 2.44948974]\n",
      " [3.         2.82842712 2.64575131]\n",
      " [1.73205081 2.23606798 2.82842712]]\n",
      "\n",
      "standard derivation:  2.465033242958173\n",
      "[[0 1 2]\n",
      " [0 1 2]\n",
      " [2 1 0]\n",
      " [0 1 2]]\n"
     ]
    }
   ],
   "source": [
    "arr=np.array([[1,2,3],[4,5,6],[9,8,7],[3,5,8]])\n",
    "print(\"manimume value: \",arr.min())\n",
    "print(\"position of minimum value:\",arr.argmin())\n",
    "print(\"maximume value: \",arr.max())\n",
    "print(\"position of max value:\",arr.argmax())\n",
    "print(\"sum all the element: \",arr.sum())\n",
    "print(\"sum the column: \",arr.sum(axis=0))\n",
    "print(\"sum the row: \",arr.sum(axis=1))\n",
    "print(\"squar root of each element: \\n\",np.sqrt(arr))\n",
    "print(\"\\nstandard derivation: \",arr.std())\n",
    "print(arr.argsort())"
   ]
  },
  {
   "cell_type": "code",
   "execution_count": 11,
   "id": "8794dd73",
   "metadata": {},
   "outputs": [
    {
     "name": "stdout",
     "output_type": "stream",
     "text": [
      "[[1 2]\n",
      " [3 5]]\n",
      "[[4 5]\n",
      " [6 7]]\n",
      "sum both matrices:\n",
      " [[ 5  7]\n",
      " [ 9 12]]\n",
      "subtrct both matrices:\n",
      " [[-3 -3]\n",
      " [-3 -2]]\n",
      "multiply both matrices:\n",
      " [[ 4 10]\n",
      " [18 35]]\n",
      "divide both matrices:\n",
      " [[0.25       0.4       ]\n",
      " [0.5        0.71428571]]\n",
      "dot product both matrices:\n",
      " [[16 19]\n",
      " [42 50]]\n"
     ]
    }
   ],
   "source": [
    "a=np.array([[1,2],[3,5]])\n",
    "b=np.array([[4,5],[6,7]])\n",
    "print(a)\n",
    "print(b)\n",
    "\n",
    "print(\"sum both matrices:\\n\",a+b)\n",
    "print(\"subtrct both matrices:\\n\",a-b)\n",
    "print(\"multiply both matrices:\\n\",a*b)\n",
    "print(\"divide both matrices:\\n\",a/b)\n",
    "print(\"dot product both matrices:\\n\",a.dot(b))"
   ]
  },
  {
   "cell_type": "markdown",
   "id": "0550be78",
   "metadata": {},
   "source": [
    "# Index and slicing"
   ]
  },
  {
   "cell_type": "code",
   "execution_count": 12,
   "id": "1813507e",
   "metadata": {},
   "outputs": [
    {
     "name": "stdout",
     "output_type": "stream",
     "text": [
      "[2 3 4 5]\n",
      "6\n",
      "[1 2 3 4 5 6]\n"
     ]
    }
   ],
   "source": [
    "a=np.array([1,2,3,4,5,6])\n",
    "print(a[-5:-1])\n",
    "print(a[-1])\n",
    "print(a[0:6])"
   ]
  },
  {
   "cell_type": "code",
   "execution_count": 13,
   "id": "65d800a4",
   "metadata": {},
   "outputs": [
    {
     "name": "stdout",
     "output_type": "stream",
     "text": [
      "[[1 2 3]\n",
      " [9 5 4]\n",
      " [1 4 7]]\n",
      "print element of given position:  9\n",
      "print element of given position:  7\n",
      "print 0 position to 2:\n",
      " [[1 2 3]\n",
      " [9 5 4]]\n",
      "print element of 0 row and 1 row at position 2: [3 4]\n",
      "print last row: [1 4 7]\n",
      "print last row element from  0 colunm and 2 colunm : [1 4]\n",
      "[[1 2]\n",
      " [9 5]\n",
      " [1 4]]\n",
      "\n",
      "print :\n",
      " [[1 2]\n",
      " [9 5]]\n"
     ]
    }
   ],
   "source": [
    "a=np.array([[1,2,3],[9,5,4],[1,4,7]])\n",
    "print(a)\n",
    "\n",
    "print(\"print element of given position: \",a[1,0])\n",
    "\n",
    "print(\"print element of given position: \",a[2,2])\n",
    "\n",
    "print(\"print 0 position to 2:\\n\",a[0:2])\n",
    "\n",
    "print(\"print element of 0 row and 1 row at position 2:\",a[0:2,2])\n",
    "\n",
    "print(\"print last row:\",a[-1])\n",
    "\n",
    "print(\"print last row element from  0 colunm and 2 colunm :\",a[-1,0:2])\n",
    "\n",
    "print(a[:,0:2])\n",
    "\n",
    "print(\"\\nprint :\\n\",a[0:2,0:2])\n"
   ]
  },
  {
   "cell_type": "code",
   "execution_count": 14,
   "id": "8ad925cd",
   "metadata": {},
   "outputs": [
    {
     "name": "stdout",
     "output_type": "stream",
     "text": [
      "[1 2 3]\n",
      "[9 5 4]\n",
      "[1 4 7]\n",
      "1\n",
      "2\n",
      "3\n",
      "9\n",
      "5\n",
      "4\n",
      "1\n",
      "4\n",
      "7\n"
     ]
    }
   ],
   "source": [
    "a=np.array([[1,2,3],[9,5,4],[1,4,7]])\n",
    "for row in a:\n",
    "    print(row)\n",
    "\n",
    "\n",
    "for cell in a.flat:\n",
    "    print(cell)"
   ]
  },
  {
   "cell_type": "code",
   "execution_count": 15,
   "id": "6f05d2a9",
   "metadata": {},
   "outputs": [
    {
     "name": "stdout",
     "output_type": "stream",
     "text": [
      "[[0 1]\n",
      " [2 3]\n",
      " [4 5]]\n",
      "[[ 6  7]\n",
      " [ 8  9]\n",
      " [10 11]]\n",
      "\n",
      "put into one :\n",
      " [[ 0  1]\n",
      " [ 2  3]\n",
      " [ 4  5]\n",
      " [ 6  7]\n",
      " [ 8  9]\n",
      " [10 11]]\n",
      "\n",
      "put into one :\n",
      " [[ 0  1  6  7]\n",
      " [ 2  3  8  9]\n",
      " [ 4  5 10 11]]\n"
     ]
    }
   ],
   "source": [
    "a=np.arange(6).reshape(3,2)\n",
    "b=np.arange(6,12).reshape(3,2)\n",
    "print(a)\n",
    "print(b)\n",
    "\n",
    "print(\"\\nput into one :\\n\",np.vstack((a,b)))\n",
    "\n",
    "print(\"\\nput into one :\\n\",np.hstack((a,b)))"
   ]
  },
  {
   "cell_type": "code",
   "execution_count": 16,
   "id": "601f27d0",
   "metadata": {},
   "outputs": [
    {
     "name": "stdout",
     "output_type": "stream",
     "text": [
      "[[ 0  1  2  3  4  5  6  7  8  9 10 11 12 13 14]\n",
      " [15 16 17 18 19 20 21 22 23 24 25 26 27 28 29]]\n",
      "split the array horizutal:\n",
      " [array([[ 0,  1,  2,  3,  4],\n",
      "       [15, 16, 17, 18, 19]]), array([[ 5,  6,  7,  8,  9],\n",
      "       [20, 21, 22, 23, 24]]), array([[10, 11, 12, 13, 14],\n",
      "       [25, 26, 27, 28, 29]])]\n",
      "[[ 0  1  2  3  4]\n",
      " [15 16 17 18 19]]\n",
      "split the array vertical:\n",
      " [array([[ 0,  1,  2,  3,  4,  5,  6,  7,  8,  9, 10, 11, 12, 13, 14]]), array([[15, 16, 17, 18, 19, 20, 21, 22, 23, 24, 25, 26, 27, 28, 29]])]\n"
     ]
    }
   ],
   "source": [
    "arr=np.arange(30).reshape(2,15)\n",
    "print(arr)\n",
    "res=np.hsplit(arr,3)\n",
    "print(\"split the array horizutal:\\n\",res)\n",
    "\n",
    "print(res[0])\n",
    "\n",
    "res=np.vsplit(arr,2)\n",
    "print(\"split the array vertical:\\n\",res)\n"
   ]
  },
  {
   "cell_type": "code",
   "execution_count": 17,
   "id": "416f150d",
   "metadata": {},
   "outputs": [
    {
     "name": "stdout",
     "output_type": "stream",
     "text": [
      "[[ 0  1  2  3]\n",
      " [ 4  5  6  7]\n",
      " [ 8  9 10 11]]\n",
      "[[False False False False]\n",
      " [False  True  True  True]\n",
      " [ True  True  True  True]]\n",
      "[ 5  6  7  8  9 10 11]\n",
      "\n",
      " [False False False False False False False]\n",
      "(array([1, 1, 2, 2, 2, 2], dtype=int64), array([2, 3, 0, 1, 2, 3], dtype=int64))\n"
     ]
    }
   ],
   "source": [
    "a=np.arange(12).reshape(3,4)\n",
    "print(a)\n",
    "b=a>4\n",
    "print(b)\n",
    "\n",
    "print(a[b])\n",
    "\n",
    "x=a[b]==-1\n",
    "print(\"\\n\",x)\n",
    "print(np.where(a>5))"
   ]
  },
  {
   "cell_type": "code",
   "execution_count": 18,
   "id": "3c1d2e78",
   "metadata": {},
   "outputs": [
    {
     "name": "stdout",
     "output_type": "stream",
     "text": [
      "11\n",
      "(array([0, 0, 0, 1, 1, 1, 1, 2, 2, 2, 2], dtype=int64), array([1, 2, 3, 0, 1, 2, 3, 0, 1, 2, 3], dtype=int64))\n"
     ]
    }
   ],
   "source": [
    "print(np.count_nonzero(a))\n",
    "print(np.nonzero(a))"
   ]
  },
  {
   "cell_type": "markdown",
   "id": "9466fccc",
   "metadata": {},
   "source": [
    "# Iterat array"
   ]
  },
  {
   "cell_type": "code",
   "execution_count": 20,
   "id": "956e2ae3",
   "metadata": {},
   "outputs": [
    {
     "name": "stdout",
     "output_type": "stream",
     "text": [
      "0\n",
      "1\n",
      "2\n",
      "3\n",
      "4\n",
      "5\n",
      "6\n",
      "7\n",
      "8\n",
      "9\n",
      "10\n",
      "11\n"
     ]
    }
   ],
   "source": [
    "a=np.arange(12).reshape(3,4)\n",
    "\n",
    "for row in a:\n",
    "    for cell in row:\n",
    "        print(cell)"
   ]
  },
  {
   "cell_type": "code",
   "execution_count": null,
   "id": "603c2fe2",
   "metadata": {},
   "outputs": [],
   "source": [
    "for cell in a.flatten():\n",
    "        print(cell)\n",
    "print(\"\\n\")      \n",
    "for cell in np.nditer(a,order=\"C\"):\n",
    "        print(cell)\n",
    "print(\"\\n\")       \n",
    "for cell in np.nditer(a,order=\"F\"):\n",
    "        print(cell)"
   ]
  },
  {
   "cell_type": "code",
   "execution_count": null,
   "id": "3702218a",
   "metadata": {},
   "outputs": [],
   "source": [
    "for cell in np.nditer(a,order=\"F\",flags=[\"external_loop\"]):\n",
    "        print(cell)"
   ]
  },
  {
   "cell_type": "code",
   "execution_count": null,
   "id": "3ebac6f6",
   "metadata": {},
   "outputs": [],
   "source": [
    "np.arange(0,10,4)"
   ]
  },
  {
   "cell_type": "code",
   "execution_count": null,
   "id": "456791d5",
   "metadata": {},
   "outputs": [],
   "source": []
  }
 ],
 "metadata": {
  "kernelspec": {
   "display_name": "Python 3 (ipykernel)",
   "language": "python",
   "name": "python3"
  },
  "language_info": {
   "codemirror_mode": {
    "name": "ipython",
    "version": 3
   },
   "file_extension": ".py",
   "mimetype": "text/x-python",
   "name": "python",
   "nbconvert_exporter": "python",
   "pygments_lexer": "ipython3",
   "version": "3.9.13"
  }
 },
 "nbformat": 4,
 "nbformat_minor": 5
}
